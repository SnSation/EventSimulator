{
 "cells": [
  {
   "cell_type": "code",
   "execution_count": 1,
   "metadata": {},
   "outputs": [],
   "source": [
    "import GauntletObjects\n",
    "from datetime import datetime"
   ]
  },
  {
   "cell_type": "code",
   "execution_count": 2,
   "metadata": {},
   "outputs": [],
   "source": [
    "class GauntletApp:\n",
    "    def __init__(self, owner_id):\n",
    "        self.owner_id = owner_id\n",
    "        self.library = GauntletObjects.GauntletEntities(self.owner_id)\n",
    "        self.runs = []\n",
    "        self.current_event = None\n",
    "        self.current_run = None\n",
    "        \n",
    "    def select_event(self, event_id):\n",
    "        self.current_event = event_id ## NEEDS UPDATE\n",
    "        \n",
    "    def new_random_event(self, trial_quantity=5, team_quantity=1, team_size=10, influencer_quantity=1):\n",
    "        self.library.generate_random_event(trial_quantity, team_quantity, team_size, influencer_quantity)\n",
    "        self.current_event = self.library.events[-1]\n",
    "    \n",
    "    def run_event(self, only_trials=False):\n",
    "        if self.current_event == None:\n",
    "            print('No Event Selected')\n",
    "        else:\n",
    "            print(f'Running Event: {self.current_event}')            \n",
    "            new_run = EventRun(self.current_event)\n",
    "            new_run.start_run(True)\n",
    "            \n",
    "            self.runs.append(new_run)\n",
    "            return new_run\n",
    "        "
   ]
  },
  {
   "cell_type": "code",
   "execution_count": 7,
   "metadata": {},
   "outputs": [],
   "source": [
    "test = GauntletApp(0)\n",
    "test.new_random_event()"
   ]
  },
  {
   "cell_type": "code",
   "execution_count": 8,
   "metadata": {},
   "outputs": [
    {
     "data": {
      "text/plain": [
       "{'owner_id': 0,\n",
       " 'library': <Gauntlet Entities Object>,\n",
       " 'runs': [],\n",
       " 'current_event': <Event | ID: 168495 | Owner ID: 0>,\n",
       " 'current_run': None}"
      ]
     },
     "execution_count": 8,
     "metadata": {},
     "output_type": "execute_result"
    }
   ],
   "source": [
    "test.__dict__"
   ]
  },
  {
   "cell_type": "code",
   "execution_count": 10,
   "metadata": {},
   "outputs": [],
   "source": [
    "class EventRun:\n",
    "    def __init__(self, event, team_index=0, gauntlet_index=0):\n",
    "        self.event = event\n",
    "        self.team = event.teams[team_index]\n",
    "        self.gauntlet = event.gauntlets[gauntlet_index]\n",
    "        self.influencers = event.influencers\n",
    "        self.duration = event.total_time\n",
    "        self.stats = {}\n",
    "        self.results = {}\n",
    "        \n",
    "    def start_run(self, only_trials=False):\n",
    "        real_start = datetime.now()\n",
    "        print(f'Start Time: {real_start}')\n",
    "        # Get Stats\n",
    "        self.results['stats'] = {}\n",
    "        stats = self.results['stats']\n",
    "\n",
    "        # Get Average Stats\n",
    "        average_attributes = {}\n",
    "\n",
    "        for participant in self.team.participants:\n",
    "            for attribute, value in participant.attributes.items():\n",
    "                if attribute in average_attributes.keys():\n",
    "                    average_attributes[attribute] += value\n",
    "                else:\n",
    "                    average_attributes[attribute] = value\n",
    "\n",
    "        for attribute, value in average_attributes.items():\n",
    "            average_attributes[attribute] = value / len(self.team.participants)\n",
    "\n",
    "        stats['average_attributes'] = average_attributes\n",
    "        \n",
    "\n",
    "        # Event Run\n",
    "        self.results['data'] = {}\n",
    "        results = self.results['data']\n",
    "        row_number = 0\n",
    "        expected_major = 0\n",
    "        \n",
    "        event_time = 0\n",
    "        event_duration = 0\n",
    "        if only_trials = False:\n",
    "            event_duration = self.event.total_time\n",
    "        else:\n",
    "            event_duration = sum([trial.duration for trial in self.gauntlet.trials])\n",
    "        \n",
    "        # Event Flags\n",
    "        event_running = True\n",
    "        is_weekend = False\n",
    "        is_class = False\n",
    "        current_trial = None\n",
    "        \n",
    "        # Event Variables\n",
    "        trial_time = 0\n",
    "\n",
    "        print(f'Starting Event:{self.event.name}')\n",
    "        \n",
    "        while event_running == True:\n",
    "            event_time += 1\n",
    "            print(f'Event Time: {event_time}')\n",
    "            if event_time >= event_duration:\n",
    "                event_running = False\n",
    "\n",
    "            expected_major += 10\n",
    "            \n",
    "            # Trial Data\n",
    "            for trial in self.gauntlet.trials:\n",
    "                \n",
    "            \n",
    "#             # Log Participant Status\n",
    "#             for participant in self.team.participants:\n",
    "#                 row_number += 1\n",
    "#                 results[row_number] = {}\n",
    "#                 row = results[row_number]\n",
    "#                 row['time'] = event_time\n",
    "#                 row['event'] = self.event.name\n",
    "#                 row['gauntlet'] = self.gauntlet.name\n",
    "#                 row['first_name'] = participant.first_name\n",
    "#                 row['last_name'] = participant.last_name\n",
    "#                 row['current_major'] = participant.attributes.major\n",
    "#                 row['expected_major'] = expected_major\n",
    "                  \n",
    "#                 row['status'] = self.get\n",
    "                  \n",
    "#                 for attribute, value in participant.attribute.items():\n",
    "#                     row[attribute] = value\n",
    "\n",
    "#                 # Change Participant Data Here\n",
    "#                 progress = self.get_progress(participant)\n",
    "#                 row['major'] += progress\n",
    "\n",
    "        real_end = datetime.now()\n",
    "        print(f'End Time: {real_start}')    \n",
    "        print(f'Test Time: {real_end - real_start}')                                      \n",
    "        return results\n",
    "    \n",
    "    def get_progress(self, participant):\n",
    "        new_major = current_major + 1\n",
    "        return new_major\n",
    "                  \n",
    "    def get_status(self, participant):\n",
    "        status = 'working'\n",
    "        return status"
   ]
  },
  {
   "cell_type": "code",
   "execution_count": null,
   "metadata": {},
   "outputs": [],
   "source": []
  },
  {
   "cell_type": "code",
   "execution_count": 11,
   "metadata": {},
   "outputs": [
    {
     "ename": "NameError",
     "evalue": "name 'test_event' is not defined",
     "output_type": "error",
     "traceback": [
      "\u001b[0;31m---------------------------------------------------------------------------\u001b[0m",
      "\u001b[0;31mNameError\u001b[0m                                 Traceback (most recent call last)",
      "\u001b[0;32m<ipython-input-11-2fa5ebac9b49>\u001b[0m in \u001b[0;36m<module>\u001b[0;34m\u001b[0m\n\u001b[0;32m----> 1\u001b[0;31m \u001b[0mtest_event\u001b[0m\u001b[0;34m\u001b[0m\u001b[0;34m\u001b[0m\u001b[0m\n\u001b[0m",
      "\u001b[0;31mNameError\u001b[0m: name 'test_event' is not defined"
     ]
    }
   ],
   "source": [
    "test_event"
   ]
  },
  {
   "cell_type": "code",
   "execution_count": null,
   "metadata": {},
   "outputs": [],
   "source": []
  },
  {
   "cell_type": "code",
   "execution_count": null,
   "metadata": {},
   "outputs": [],
   "source": []
  },
  {
   "cell_type": "code",
   "execution_count": null,
   "metadata": {},
   "outputs": [],
   "source": []
  },
  {
   "cell_type": "code",
   "execution_count": null,
   "metadata": {},
   "outputs": [],
   "source": []
  }
 ],
 "metadata": {
  "kernelspec": {
   "display_name": "Python 3",
   "language": "python",
   "name": "python3"
  },
  "language_info": {
   "codemirror_mode": {
    "name": "ipython",
    "version": 3
   },
   "file_extension": ".py",
   "mimetype": "text/x-python",
   "name": "python",
   "nbconvert_exporter": "python",
   "pygments_lexer": "ipython3",
   "version": "3.8.3"
  }
 },
 "nbformat": 4,
 "nbformat_minor": 4
}
