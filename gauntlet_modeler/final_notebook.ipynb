{
 "cells": [
  {
   "cell_type": "code",
   "execution_count": 1,
   "metadata": {},
   "outputs": [],
   "source": [
    "import Gauntlets"
   ]
  },
  {
   "cell_type": "code",
   "execution_count": 2,
   "metadata": {},
   "outputs": [],
   "source": [
    "new_final = Gauntlets.Final('final_project', 5, 100)"
   ]
  },
  {
   "cell_type": "code",
   "execution_count": null,
   "metadata": {
    "scrolled": false
   },
   "outputs": [
    {
     "name": "stdout",
     "output_type": "stream",
     "text": [
      "Running Event: <Event | ID: 876647 | Owner ID: 0>\n",
      "Start Time: 2021-01-05 18:48:29.165743\n",
      "End Time: 2021-01-05 18:48:29.165743\n",
      "Test Time: 0:01:13.852208\n",
      "Rows Generated: 12816000\n",
      "Event:phenomenalism\n",
      "Average Success: 0.775\n",
      "Passing Intellect: 6.542857142857143\n",
      "Passing Endurance: 6.0\n",
      "Failing Intellect: 2.0\n",
      "Failing Endurance: 5.9655172413793105\n",
      "Greater Intellect Success: 0.9900000000000001\n",
      "Greater Endurance Success: 0.6285714285714288\n",
      "Above Int Success: 1.0992452830188684\n",
      "Above End Success: 0.7948387096774195\n",
      "Below Int Success: 0.4652727272727272\n",
      "Below End Success: 0.7611111111111111\n",
      "=================================\n",
      "Running Event: <Event | ID: 456388 | Owner ID: 0>\n",
      "Start Time: 2021-01-05 18:50:45.584745\n",
      "End Time: 2021-01-05 18:50:45.584745\n",
      "Test Time: 0:01:25.360468\n",
      "Rows Generated: 16128000\n",
      "Event:brisling\n",
      "Average Success: 1.0240000000000002\n",
      "Passing Intellect: 6.773333333333333\n",
      "Passing Endurance: 5.68\n",
      "Failing Intellect: 1.76\n",
      "Failing Endurance: 4.24\n",
      "Greater Intellect Success: 1.1322033898305084\n",
      "Greater Endurance Success: 0.832156862745098\n",
      "Above Int Success: 1.4116666666666668\n",
      "Above End Success: 1.256071428571429\n",
      "Below Int Success: 0.5409803921568628\n",
      "Below End Success: 0.8059999999999997\n",
      "=================================\n",
      "Running Event: <Event | ID: 92078 | Owner ID: 0>\n",
      "Start Time: 2021-01-05 18:53:14.376079\n",
      "End Time: 2021-01-05 18:53:14.376079\n",
      "Test Time: 0:01:28.766406\n",
      "Rows Generated: 18432000\n",
      "Event:conelrads\n",
      "Average Success: 0.39209999999999995\n",
      "Passing Intellect: 8.933333333333334\n",
      "Passing Endurance: 7.466666666666667\n",
      "Failing Intellect: 4.357142857142857\n",
      "Failing Endurance: 4.985714285714286\n",
      "Greater Intellect Success: 0.46793103448275875\n",
      "Greater Endurance Success: 0.3284313725490198\n",
      "Above Int Success: 0.5083076923076923\n",
      "Above End Success: 0.44249999999999995\n",
      "Below Int Success: 0.21625000000000003\n",
      "Below End Success: 0.31243902439024385\n",
      "=================================\n",
      "Running Event: <Event | ID: 458949 | Owner ID: 0>\n",
      "Start Time: 2021-01-05 18:56:05.710255\n",
      "End Time: 2021-01-05 18:56:05.710255\n",
      "Test Time: 0:04:55.230529\n",
      "Rows Generated: 24192000\n",
      "Event:repels\n",
      "Average Success: 0.19360000000000008\n",
      "Passing Intellect: nan\n",
      "Passing Endurance: nan\n",
      "Failing Intellect: 5.47\n",
      "Failing Endurance: 5.5\n",
      "Greater Intellect Success: 0.235\n",
      "Greater Endurance Success: 0.16618181818181818\n",
      "Above Int Success: 0.26516666666666666\n",
      "Above End Success: 0.2179661016949152\n",
      "Below Int Success: 0.09979166666666667\n",
      "Below End Success: 0.1722641509433962\n",
      "=================================\n",
      "Running Event: <Event | ID: 986912 | Owner ID: 0>\n",
      "Start Time: 2021-01-05 19:03:37.379762\n",
      "End Time: 2021-01-05 19:03:37.379762\n",
      "Test Time: 0:07:53.934812\n",
      "Rows Generated: 27648000\n",
      "Event:creneling\n",
      "Average Success: 0.19349999999999998\n",
      "Passing Intellect: nan\n",
      "Passing Endurance: nan\n",
      "Failing Intellect: 5.85\n",
      "Failing Endurance: 5.24\n",
      "Greater Intellect Success: 0.23000000000000004\n",
      "Greater Endurance Success: 0.15960000000000002\n",
      "Above Int Success: 0.24538461538461537\n",
      "Above End Success: 0.20851851851851858\n",
      "Below Int Success: 0.10785714285714285\n",
      "Below End Success: 0.17981818181818185\n",
      "=================================\n",
      "Running Event: <Event | ID: 439640 | Owner ID: 0>\n",
      "Start Time: 2021-01-05 19:15:59.026533\n",
      "End Time: 2021-01-05 19:15:59.026533\n",
      "Test Time: 0:04:59.115852\n",
      "Rows Generated: 16128000\n",
      "Event:disabusing\n",
      "Average Success: 0.21539999999999992\n",
      "Passing Intellect: 10.0\n",
      "Passing Endurance: 10.0\n",
      "Failing Intellect: 5.061224489795919\n",
      "Failing Endurance: 5.091836734693878\n",
      "Greater Intellect Success: 0.24685185185185182\n",
      "Greater Endurance Success: 0.1853846153846154\n",
      "Above Int Success: 0.30333333333333334\n",
      "Above End Success: 0.2577777777777778\n",
      "Below Int Success: 0.11673076923076925\n",
      "Below End Success: 0.17140350877192978\n",
      "=================================\n",
      "Running Event: <Event | ID: 778738 | Owner ID: 0>\n",
      "Start Time: 2021-01-05 19:22:15.062555\n",
      "End Time: 2021-01-05 19:22:15.062555\n",
      "Test Time: 0:04:42.142561\n",
      "Rows Generated: 25056000\n"
     ]
    }
   ],
   "source": [
    "# new_final.run_tests(10)"
   ]
  },
  {
   "cell_type": "code",
   "execution_count": 1,
   "metadata": {},
   "outputs": [
    {
     "ename": "NameError",
     "evalue": "name 'new_final' is not defined",
     "output_type": "error",
     "traceback": [
      "\u001b[0;31m---------------------------------------------------------------------------\u001b[0m",
      "\u001b[0;31mNameError\u001b[0m                                 Traceback (most recent call last)",
      "\u001b[0;32m<ipython-input-1-ac0672d07ea6>\u001b[0m in \u001b[0;36m<module>\u001b[0;34m\u001b[0m\n\u001b[0;32m----> 1\u001b[0;31m \u001b[0mnew_final\u001b[0m\u001b[0;34m.\u001b[0m\u001b[0mtests\u001b[0m\u001b[0;34m\u001b[0m\u001b[0;34m\u001b[0m\u001b[0m\n\u001b[0m",
      "\u001b[0;31mNameError\u001b[0m: name 'new_final' is not defined"
     ]
    }
   ],
   "source": [
    "app_name = 'Demonstration'\n",
    "trials_per_gauntlet = 5\n",
    "participants_per_team = 10\n",
    "\n",
    "new_final.run_tests(app_name)"
   ]
  },
  {
   "cell_type": "code",
   "execution_count": null,
   "metadata": {},
   "outputs": [],
   "source": [
    "new_final.tests"
   ]
  },
  {
   "cell_type": "code",
   "execution_count": null,
   "metadata": {},
   "outputs": [],
   "source": [
    "new_final.tests['Demonstration']"
   ]
  }
 ],
 "metadata": {
  "kernelspec": {
   "display_name": "Python 3",
   "language": "python",
   "name": "python3"
  },
  "language_info": {
   "codemirror_mode": {
    "name": "ipython",
    "version": 3
   },
   "file_extension": ".py",
   "mimetype": "text/x-python",
   "name": "python",
   "nbconvert_exporter": "python",
   "pygments_lexer": "ipython3",
   "version": "3.8.3"
  }
 },
 "nbformat": 4,
 "nbformat_minor": 4
}
