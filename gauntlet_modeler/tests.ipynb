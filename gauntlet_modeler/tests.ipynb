{
 "cells": [
  {
   "cell_type": "code",
   "execution_count": 3,
   "metadata": {},
   "outputs": [],
   "source": [
    "import GauntletObjects\n",
    "from datetime import datetime"
   ]
  },
  {
   "cell_type": "code",
   "execution_count": 52,
   "metadata": {},
   "outputs": [],
   "source": [
    "class GauntletApp:\n",
    "    def __init__(self, owner_id):\n",
    "        self.owner_id = owner_id\n",
    "        self.library = GauntletObjects.GauntletEntities(self.owner_id)\n",
    "        self.runs = []\n",
    "        self.current_event = None\n",
    "        self.current_run = None\n",
    "        \n",
    "    def select_event(self, event_id):\n",
    "        self.current_event = event_id ## NEEDS UPDATE\n",
    "        \n",
    "    def new_random_event(self, trial_quantity=5, team_quantity=1, team_size=10, influencer_quantity=1):\n",
    "        self.library.generate_random_event(trial_quantity, team_quantity, team_size, influencer_quantity)\n",
    "        self.current_event = self.library.events[-1]\n",
    "    \n",
    "    def run_event(self):\n",
    "        if self.current_event == None:\n",
    "            print('No Event Selected')\n",
    "        else:\n",
    "            print(f'Running Event: {self.current_event}')            \n",
    "            new_run = EventRun(self.current_event)\n",
    "            new_run.start_run()\n",
    "            \n",
    "            self.runs.append(new_run)\n",
    "            return new_run\n",
    "    \n",
    "    def randomize_event_team(self, size=10):\n",
    "        self.current_event.teams[0] = self.library.generate_random_team(size)\n",
    "        \n",
    "    def randomize_event_gauntlet(self, size=5):\n",
    "        self.current_event.gauntlets[0] = self.library.generate_random_gauntlet(size)        \n",
    "        \n",
    "    def run_tests(self, quantity, target):\n",
    "        self.new_random_event()\n",
    "        count = 0\n",
    "        while count < quantity:\n",
    "            if target == 'team':\n",
    "                self.randomize_event_team()\n",
    "                self.run_event()\n",
    "            elif target == 'gauntlet':\n",
    "                self.randomize_event_gauntlet()\n",
    "                self.run_event()\n",
    "            else:\n",
    "                return 'Target Error'\n",
    "            count += 1"
   ]
  },
  {
   "cell_type": "code",
   "execution_count": 53,
   "metadata": {},
   "outputs": [],
   "source": [
    "test = GauntletApp(0)\n",
    "test.new_random_event()"
   ]
  },
  {
   "cell_type": "code",
   "execution_count": 56,
   "metadata": {},
   "outputs": [
    {
     "data": {
      "text/plain": [
       "<Gauntlet | Name: broadener | Owner: 0>"
      ]
     },
     "execution_count": 56,
     "metadata": {},
     "output_type": "execute_result"
    }
   ],
   "source": [
    "test.current_event.gauntlets[0]"
   ]
  },
  {
   "cell_type": "code",
   "execution_count": 55,
   "metadata": {},
   "outputs": [
    {
     "name": "stdout",
     "output_type": "stream",
     "text": [
      "<Gauntlet | Name: preciously | Owner: 0>\n",
      "<Gauntlet | Name: broadener | Owner: 0>\n"
     ]
    }
   ],
   "source": [
    "test.randomize_event_gauntlet()"
   ]
  },
  {
   "cell_type": "code",
   "execution_count": null,
   "metadata": {},
   "outputs": [],
   "source": []
  },
  {
   "cell_type": "code",
   "execution_count": 38,
   "metadata": {},
   "outputs": [
    {
     "data": {
      "text/plain": [
       "<Event | ID: 11525 | Owner ID: 0>"
      ]
     },
     "execution_count": 38,
     "metadata": {},
     "output_type": "execute_result"
    }
   ],
   "source": [
    "test.current_event"
   ]
  },
  {
   "cell_type": "code",
   "execution_count": 45,
   "metadata": {},
   "outputs": [
    {
     "data": {
      "text/plain": [
       "[<Participant | ID: 987755 | Owner ID: 0>,\n",
       " <Participant | ID: 231584 | Owner ID: 0>,\n",
       " <Participant | ID: 630224 | Owner ID: 0>,\n",
       " <Participant | ID: 89478 | Owner ID: 0>,\n",
       " <Participant | ID: 413569 | Owner ID: 0>,\n",
       " <Participant | ID: 48158 | Owner ID: 0>,\n",
       " <Participant | ID: 470212 | Owner ID: 0>,\n",
       " <Participant | ID: 12797 | Owner ID: 0>,\n",
       " <Participant | ID: 317549 | Owner ID: 0>,\n",
       " <Participant | ID: 357484 | Owner ID: 0>]"
      ]
     },
     "execution_count": 45,
     "metadata": {},
     "output_type": "execute_result"
    }
   ],
   "source": [
    "test.current_event.teams[0].participants"
   ]
  },
  {
   "cell_type": "code",
   "execution_count": 46,
   "metadata": {},
   "outputs": [
    {
     "name": "stdout",
     "output_type": "stream",
     "text": [
      "<Team | ID: 269997 | Owner ID: 0>\n",
      "<Team | ID: 237798 | Owner ID: 0>\n"
     ]
    }
   ],
   "source": [
    "test.randomize_event_team()"
   ]
  },
  {
   "cell_type": "code",
   "execution_count": 47,
   "metadata": {},
   "outputs": [
    {
     "data": {
      "text/plain": [
       "[<Participant | ID: 171082 | Owner ID: 0>,\n",
       " <Participant | ID: 677500 | Owner ID: 0>,\n",
       " <Participant | ID: 195393 | Owner ID: 0>,\n",
       " <Participant | ID: 423401 | Owner ID: 0>,\n",
       " <Participant | ID: 994110 | Owner ID: 0>,\n",
       " <Participant | ID: 686050 | Owner ID: 0>,\n",
       " <Participant | ID: 293833 | Owner ID: 0>,\n",
       " <Participant | ID: 278330 | Owner ID: 0>,\n",
       " <Participant | ID: 691240 | Owner ID: 0>,\n",
       " <Participant | ID: 675378 | Owner ID: 0>]"
      ]
     },
     "execution_count": 47,
     "metadata": {},
     "output_type": "execute_result"
    }
   ],
   "source": [
    "test.current_event.teams[0].participants"
   ]
  },
  {
   "cell_type": "code",
   "execution_count": 7,
   "metadata": {},
   "outputs": [
    {
     "name": "stdout",
     "output_type": "stream",
     "text": [
      "40686\n",
      "40509\n",
      "8446\n",
      "8454\n",
      "34035\n",
      "3098\n",
      "41512\n",
      "33009\n",
      "38374\n",
      "21624\n"
     ]
    }
   ],
   "source": [
    "for participant in test.current_event.teams[0].participants:\n",
    "    print(participant.attributes['major'])"
   ]
  },
  {
   "cell_type": "code",
   "execution_count": 8,
   "metadata": {},
   "outputs": [],
   "source": [
    "saved_data = []"
   ]
  },
  {
   "cell_type": "code",
   "execution_count": 9,
   "metadata": {},
   "outputs": [],
   "source": [
    "class EventRun:\n",
    "    def __init__(self, event, team_index=0, gauntlet_index=0, influencer_index=0):\n",
    "        self.event = event\n",
    "        self.team = event.teams[team_index]\n",
    "        self.gauntlet = event.gauntlets[gauntlet_index]\n",
    "        self.influencer = event.influencers[influencer_index]\n",
    "        self.duration = event.total_time\n",
    "        self.results = {}\n",
    "        \n",
    "    def start_run(self):\n",
    "        real_start = datetime.now()\n",
    "        print(f'Start Time: {real_start}')\n",
    "        # Get Stats\n",
    "        self.results['stats'] = {}\n",
    "        stats = self.results['stats']\n",
    "        stats['influencer'] = self.influencer\n",
    "        stats['gauntlet_difficulty'] = self.gauntlet.difficulty\n",
    "\n",
    "        # Get Average Stats\n",
    "        average_attributes = {}\n",
    "\n",
    "        for participant in self.team.participants:\n",
    "            for attribute, value in participant.attributes.items():\n",
    "                if attribute in average_attributes.keys():\n",
    "                    average_attributes[attribute] += value\n",
    "                else:\n",
    "                    average_attributes[attribute] = value\n",
    "\n",
    "        for attribute, value in average_attributes.items():\n",
    "            average_attributes[attribute] = value / len(self.team.participants)\n",
    "        \n",
    "        stats['average_attributes'] = average_attributes      \n",
    "\n",
    "        # Event Run\n",
    "        self.results['data'] = {}\n",
    "        results = self.results['data']\n",
    "        row_number = 0\n",
    "        perfect_progress = 0\n",
    "        current_time = 0\n",
    "        \n",
    "        event_time = 0\n",
    "        event_duration = self.event.total_time\n",
    "        \n",
    "        # Event Flags\n",
    "        event_running = True\n",
    "        current_day = 1\n",
    "        is_weekend = False\n",
    "        is_class = False\n",
    "        current_trial = self.gauntlet.trials[0]\n",
    "        current_trial_index = 0\n",
    "        influencer_active = False\n",
    "        \n",
    "        # Event Variables\n",
    "        trial_time = 0\n",
    "\n",
    "        print(f'Starting Event:{self.event.name}')\n",
    "        \n",
    "        while event_running == True:\n",
    "            event_time += 1\n",
    "            current_time += 1\n",
    "            trial_time += 1\n",
    "            \n",
    "#             print('\\n')\n",
    "#             print(f'Event Time: {event_time}')\n",
    "#             print(f'Current Time: {current_time}')\n",
    "#             print(f'Current Day: {current_day}')\n",
    "#             print(f'Current Trial: {current_trial}')\n",
    "#             print(f'Perfect Progress: {perfect_progress}')\n",
    "#             print(f'Is Class? {is_class}')\n",
    "#             print(f'Is Weekend? {is_weekend}')\n",
    "#             print(f'Influencer Active? {influencer_active}')\n",
    "            \n",
    "            \n",
    "            if event_time >= event_duration:\n",
    "                event_running = False\n",
    "            \n",
    "            # Set Event Flags\n",
    "            \n",
    "            # Set current_day and current_time\n",
    "            if event_time % 1440 == 0:\n",
    "                current_day += 1\n",
    "                current_time = 0\n",
    "                \n",
    "            # Set is_weekend Flag\n",
    "            if current_day % 6 == 0 or current_day % 7 == 0:\n",
    "                is_weekend = True\n",
    "            else:\n",
    "                is_weekend = False\n",
    "                \n",
    "            # Set is_class Flag\n",
    "            if current_time > 540 and current_time < 1021 and is_weekend == False:\n",
    "                is_class = True\n",
    "                perfect_progress += 100\n",
    "            else:\n",
    "                is_class = False\n",
    "                \n",
    "            # Set influencer_active Flag\n",
    "            if current_time > 540 and current_time < (1021 + self.influencer.attributes['attribute_2']*30):\n",
    "                influencer_active = True\n",
    "            else:\n",
    "                influencer_active = False\n",
    "            \n",
    "            # Set Trial Data\n",
    "            if trial_time == current_trial.duration:\n",
    "                trial_time == 0\n",
    "                current_trial_index += 1\n",
    "                current_trial = self.gauntlet.trials[current_trial_index]\n",
    "                        \n",
    "            # Set Participant Data\n",
    "            for participant in self.team.participants:\n",
    "                print(participant)\n",
    "                # Log Current Participant Values\n",
    "                row_number += 1\n",
    "                results[row_number] = {}\n",
    "                row = results[row_number]\n",
    "                row['index'] = row_number\n",
    "                row['event'] = self.event.name\n",
    "                row['gauntlet'] = self.gauntlet.name\n",
    "                row['trial'] = current_trial.name\n",
    "                row['time'] = event_time\n",
    "                row['day'] = current_day\n",
    "                row['first_name'] = participant.first_name\n",
    "                row['last_name'] = participant.last_name\n",
    "                for attribute, value in participant.attributes.items():\n",
    "                    row[attribute] = value\n",
    "                row['perfect_progress'] = perfect_progress\n",
    "                row['participant_success'] = round(participant.attributes['major']/(perfect_progress+1), 2)\n",
    "                \n",
    "#                 print(f'Perfect Progress: {perfect_progress}')\n",
    "#                 print(f\"Participant Progress: {participant.attributes['major']}\")\n",
    "#                 print(f\"Participant Success: {row['participant_success']}\")\n",
    "                \n",
    "                # Change Participant Data\n",
    "                # Determine Participant Status\n",
    "                row['participant_status'] = self.participant_status(participant, current_time, is_weekend, is_class)\n",
    "                \n",
    "#                 print(row['participant_status'])\n",
    "                \n",
    "                # Determine Participant Progress\n",
    "                participant.attributes['major'] += self.participant_progress(participant, row['participant_status'], is_class, influencer_active, current_trial)\n",
    "                \n",
    "                saved_data.append(results[row_number])\n",
    "\n",
    "        real_end = datetime.now()\n",
    "        print(f'End Time: {real_start}')    \n",
    "        print(f'Test Time: {real_end - real_start}')                                      \n",
    "        return self.results\n",
    "    \n",
    "    def participant_status(self, participant, current_time, is_weekend, is_class):\n",
    "        max_time = participant.attributes['minor_2'] * 30 # each point of endurance = 30 minutes of working time\n",
    "        if is_class == True:\n",
    "            return 'working'\n",
    "        elif is_weekend == True:\n",
    "            if current_time < max_time:\n",
    "                return 'working'\n",
    "        elif (current_time > 1020) and (current_time - max_time) < 1020:\n",
    "            return 'working'\n",
    "        else:\n",
    "            return 'resting'\n",
    "            \n",
    "    \n",
    "    def participant_progress(self, participant, status, is_class, influencer_active, trial):        \n",
    "        progress = 0\n",
    "        if status == 'working':\n",
    "            trial_modifier = (11 - trial.difficulty) / 10\n",
    "#             print(f'Trial Difficulty: {trial.difficulty}')\n",
    "#             print(f'Trial Modifier: {trial_modifier}')\n",
    "            intelligence_modifier = participant.attributes['minor_1'] / 10\n",
    "            influencer_modifier = self.influencer.attributes['attribute_1'] / 10\n",
    "            if influencer_active == False:\n",
    "                influencer_modifier = 1\n",
    "\n",
    "            progress = (100 * intelligence_modifier * trial_modifier) * (1 + influencer_modifier)\n",
    "#             print(f'Status: {status}')\n",
    "#         print(f'Progress: {progress}')\n",
    "        return progress\n",
    "    \n",
    "    \n",
    "    "
   ]
  },
  {
   "cell_type": "code",
   "execution_count": 10,
   "metadata": {},
   "outputs": [
    {
     "ename": "IndexError",
     "evalue": "list index out of range",
     "output_type": "error",
     "traceback": [
      "\u001b[0;31m---------------------------------------------------------------------------\u001b[0m",
      "\u001b[0;31mIndexError\u001b[0m                                Traceback (most recent call last)",
      "\u001b[0;32m<ipython-input-10-7104e2b4e6e0>\u001b[0m in \u001b[0;36m<module>\u001b[0;34m\u001b[0m\n\u001b[0;32m----> 1\u001b[0;31m \u001b[0mtest\u001b[0m\u001b[0;34m.\u001b[0m\u001b[0mruns\u001b[0m\u001b[0;34m[\u001b[0m\u001b[0;34m-\u001b[0m\u001b[0;36m1\u001b[0m\u001b[0;34m]\u001b[0m\u001b[0;34m.\u001b[0m\u001b[0mevent\u001b[0m\u001b[0;34m.\u001b[0m\u001b[0mtotal_time\u001b[0m\u001b[0;34m\u001b[0m\u001b[0;34m\u001b[0m\u001b[0m\n\u001b[0m",
      "\u001b[0;31mIndexError\u001b[0m: list index out of range"
     ]
    }
   ],
   "source": [
    "test.runs[-1].event.total_time"
   ]
  },
  {
   "cell_type": "code",
   "execution_count": null,
   "metadata": {},
   "outputs": [],
   "source": []
  },
  {
   "cell_type": "code",
   "execution_count": null,
   "metadata": {},
   "outputs": [],
   "source": []
  },
  {
   "cell_type": "code",
   "execution_count": null,
   "metadata": {},
   "outputs": [],
   "source": []
  }
 ],
 "metadata": {
  "kernelspec": {
   "display_name": "Python 3",
   "language": "python",
   "name": "python3"
  },
  "language_info": {
   "codemirror_mode": {
    "name": "ipython",
    "version": 3
   },
   "file_extension": ".py",
   "mimetype": "text/x-python",
   "name": "python",
   "nbconvert_exporter": "python",
   "pygments_lexer": "ipython3",
   "version": "3.8.3"
  }
 },
 "nbformat": 4,
 "nbformat_minor": 4
}
